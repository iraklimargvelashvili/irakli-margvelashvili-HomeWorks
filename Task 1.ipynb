{
 "cells": [
  {
   "cell_type": "code",
   "execution_count": 1,
   "metadata": {},
   "outputs": [
    {
     "name": "stdout",
     "output_type": "stream",
     "text": [
      "გამარჯობა, irakli ncnns, თქვენ ხართ 98 წლის.\n"
     ]
    }
   ],
   "source": [
    "first_name = input(\"გთხოვთ, შეიყვანოთ თქვენი სახელი:\")\n",
    "last_name = input(\"გთხოვთ, შეიყვანოთ თქვენი გვარი:\")\n",
    "age = input(\"გთხოვთ, შეიყვანოთ თქვენი ასაკი:\")\n",
    "print(\"გამარჯობა, \"+first_name+\" \"+last_name+\", თქვენ ხართ \"+age+\" წლის.\")"
   ]
  }
 ],
 "metadata": {
  "kernelspec": {
   "display_name": "base",
   "language": "python",
   "name": "python3"
  },
  "language_info": {
   "codemirror_mode": {
    "name": "ipython",
    "version": 3
   },
   "file_extension": ".py",
   "mimetype": "text/x-python",
   "name": "python",
   "nbconvert_exporter": "python",
   "pygments_lexer": "ipython3",
   "version": "3.11.7"
  }
 },
 "nbformat": 4,
 "nbformat_minor": 2
}
