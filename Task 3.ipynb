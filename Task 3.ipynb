{
 "cells": [
  {
   "cell_type": "code",
   "execution_count": 1,
   "metadata": {},
   "outputs": [
    {
     "name": "stdout",
     "output_type": "stream",
     "text": [
      "პერიმეტრია:  12 \n",
      " ფართობია:  6.0\n"
     ]
    }
   ],
   "source": [
    "import math\n",
    "a,b,c = input(\"შეიყვანეთ სამკუთხედის სამივე გვერდი ცალ-ცალკე, space-ის გამოყენებით\",).split()\n",
    "p = int(a)+int(b)+int(c)\n",
    "a = int(a)\n",
    "b = int(b)\n",
    "c = int(c)\n",
    "s = math.sqrt(p*(p-2*a)*(p-2*b)*(p-2*c))/4\n",
    "print(\"პერიმეტრია: \",p,\"\\n\",\"ფართობია: \",s)"
   ]
  }
 ],
 "metadata": {
  "kernelspec": {
   "display_name": "base",
   "language": "python",
   "name": "python3"
  },
  "language_info": {
   "codemirror_mode": {
    "name": "ipython",
    "version": 3
   },
   "file_extension": ".py",
   "mimetype": "text/x-python",
   "name": "python",
   "nbconvert_exporter": "python",
   "pygments_lexer": "ipython3",
   "version": "3.11.7"
  }
 },
 "nbformat": 4,
 "nbformat_minor": 2
}
