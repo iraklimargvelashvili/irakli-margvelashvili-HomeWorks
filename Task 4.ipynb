{
 "cells": [
  {
   "cell_type": "code",
   "execution_count": 1,
   "metadata": {},
   "outputs": [
    {
     "name": "stdout",
     "output_type": "stream",
     "text": [
      "ტემპერატურა ფარენგეიტებში: 104.0\n"
     ]
    }
   ],
   "source": [
    "c = input(\"შეიყვანეთ ტემპერატურა ცელსიუსებში:\")\n",
    "print(\"ტემპერატურა ფარენგეიტებში:\",int(c)*9/5+32)"
   ]
  }
 ],
 "metadata": {
  "kernelspec": {
   "display_name": "base",
   "language": "python",
   "name": "python3"
  },
  "language_info": {
   "codemirror_mode": {
    "name": "ipython",
    "version": 3
   },
   "file_extension": ".py",
   "mimetype": "text/x-python",
   "name": "python",
   "nbconvert_exporter": "python",
   "pygments_lexer": "ipython3",
   "version": "3.11.7"
  }
 },
 "nbformat": 4,
 "nbformat_minor": 2
}
